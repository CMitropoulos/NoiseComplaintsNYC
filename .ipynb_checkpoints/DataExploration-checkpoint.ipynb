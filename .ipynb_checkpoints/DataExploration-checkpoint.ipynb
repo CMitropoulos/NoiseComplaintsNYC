{
 "cells": [
  {
   "cell_type": "code",
   "execution_count": 17,
   "metadata": {
    "collapsed": false
   },
   "outputs": [],
   "source": [
    "import numpy as np\n",
    "import pandas as pd\n",
    "import matplotlib.pyplot as plt\n",
    "import seaborn as sns\n",
    "%matplotlib inline"
   ]
  },
  {
   "cell_type": "code",
   "execution_count": 18,
   "metadata": {
    "collapsed": false
   },
   "outputs": [
    {
     "data": {
      "text/html": [
       "<div>\n",
       "<table border=\"1\" class=\"dataframe\">\n",
       "  <thead>\n",
       "    <tr style=\"text-align: right;\">\n",
       "      <th></th>\n",
       "      <th>Created Date</th>\n",
       "      <th>Closed Date</th>\n",
       "      <th>Location Type</th>\n",
       "      <th>Incident Zip</th>\n",
       "      <th>City</th>\n",
       "      <th>Borough</th>\n",
       "      <th>Latitude</th>\n",
       "      <th>Longitude</th>\n",
       "    </tr>\n",
       "  </thead>\n",
       "  <tbody>\n",
       "    <tr>\n",
       "      <th>0</th>\n",
       "      <td>2015-12-31 00:01:15</td>\n",
       "      <td>2015-12-31 03:48:04</td>\n",
       "      <td>Store/Commercial</td>\n",
       "      <td>10034.0</td>\n",
       "      <td>NEW YORK</td>\n",
       "      <td>MANHATTAN</td>\n",
       "      <td>40.866183</td>\n",
       "      <td>-73.918930</td>\n",
       "    </tr>\n",
       "    <tr>\n",
       "      <th>1</th>\n",
       "      <td>2015-12-31 00:02:48</td>\n",
       "      <td>2015-12-31 04:36:13</td>\n",
       "      <td>Store/Commercial</td>\n",
       "      <td>10040.0</td>\n",
       "      <td>NEW YORK</td>\n",
       "      <td>MANHATTAN</td>\n",
       "      <td>40.859324</td>\n",
       "      <td>-73.931237</td>\n",
       "    </tr>\n",
       "    <tr>\n",
       "      <th>2</th>\n",
       "      <td>2015-12-31 00:03:25</td>\n",
       "      <td>2015-12-31 00:40:15</td>\n",
       "      <td>Residential Building/House</td>\n",
       "      <td>10026.0</td>\n",
       "      <td>NEW YORK</td>\n",
       "      <td>MANHATTAN</td>\n",
       "      <td>40.799415</td>\n",
       "      <td>-73.953371</td>\n",
       "    </tr>\n",
       "    <tr>\n",
       "      <th>3</th>\n",
       "      <td>2015-12-31 00:03:26</td>\n",
       "      <td>2015-12-31 01:53:38</td>\n",
       "      <td>Residential Building/House</td>\n",
       "      <td>11231.0</td>\n",
       "      <td>BROOKLYN</td>\n",
       "      <td>BROOKLYN</td>\n",
       "      <td>40.678285</td>\n",
       "      <td>-73.994668</td>\n",
       "    </tr>\n",
       "    <tr>\n",
       "      <th>4</th>\n",
       "      <td>2015-12-31 00:05:10</td>\n",
       "      <td>2015-12-31 03:49:10</td>\n",
       "      <td>Residential Building/House</td>\n",
       "      <td>10033.0</td>\n",
       "      <td>NEW YORK</td>\n",
       "      <td>MANHATTAN</td>\n",
       "      <td>40.850304</td>\n",
       "      <td>-73.938516</td>\n",
       "    </tr>\n",
       "  </tbody>\n",
       "</table>\n",
       "</div>"
      ],
      "text/plain": [
       "          Created Date          Closed Date               Location Type  \\\n",
       "0  2015-12-31 00:01:15  2015-12-31 03:48:04            Store/Commercial   \n",
       "1  2015-12-31 00:02:48  2015-12-31 04:36:13            Store/Commercial   \n",
       "2  2015-12-31 00:03:25  2015-12-31 00:40:15  Residential Building/House   \n",
       "3  2015-12-31 00:03:26  2015-12-31 01:53:38  Residential Building/House   \n",
       "4  2015-12-31 00:05:10  2015-12-31 03:49:10  Residential Building/House   \n",
       "\n",
       "   Incident Zip      City    Borough   Latitude  Longitude  \n",
       "0       10034.0  NEW YORK  MANHATTAN  40.866183 -73.918930  \n",
       "1       10040.0  NEW YORK  MANHATTAN  40.859324 -73.931237  \n",
       "2       10026.0  NEW YORK  MANHATTAN  40.799415 -73.953371  \n",
       "3       11231.0  BROOKLYN   BROOKLYN  40.678285 -73.994668  \n",
       "4       10033.0  NEW YORK  MANHATTAN  40.850304 -73.938516  "
      ]
     },
     "execution_count": 18,
     "metadata": {},
     "output_type": "execute_result"
    }
   ],
   "source": [
    "#Read the data and print the first 5 lines\n",
    "party_in_nyc = pd.read_csv('./partynyc/party_in_nyc.csv')\n",
    "party_in_nyc.head()"
   ]
  },
  {
   "cell_type": "code",
   "execution_count": 25,
   "metadata": {
    "collapsed": false
   },
   "outputs": [
    {
     "name": "stdout",
     "output_type": "stream",
     "text": [
      "Index([u'Created Date', u'Closed Date', u'Location Type', u'Incident Zip',\n",
      "       u'City', u'Borough', u'Latitude', u'Longitude'],\n",
      "      dtype='object')\n",
      "1803312\n"
     ]
    }
   ],
   "source": [
    "party_in_nyc[\"Closed Date\"] = pd.to_datetime(party_in_nyc[\"Closed Date\"])\n",
    "party_in_nyc[\"Created Date\"] = pd.to_datetime(party_in_nyc[\"Created Date\"])\n",
    "print(party_in_nyc.columns)\n",
    "print(party_in_nyc.size)"
   ]
  },
  {
   "cell_type": "code",
   "execution_count": 34,
   "metadata": {
    "collapsed": false,
    "scrolled": true
   },
   "outputs": [
    {
     "data": {
      "text/plain": [
       "<matplotlib.axes._subplots.AxesSubplot at 0x7f6cdad34e10>"
      ]
     },
     "execution_count": 34,
     "metadata": {},
     "output_type": "execute_result"
    },
    {
     "data": {
      "image/png": "[encoded data removed]",
      "text/plain": [
       "<matplotlib.figure.Figure at 0x7f6cd9183d50>"
      ]
     },
     "metadata": {},
     "output_type": "display_data"
    }
   ],
   "source": [
    "party_in_nyc.groupby([party_in_nyc[\"Created Date\"].dt.hour,])['Borough'].count().plot(kind=\"bar\")"
   ]
  },
  {
   "cell_type": "code",
   "execution_count": null,
   "metadata": {
    "collapsed": false
   },
   "outputs": [],
   "source": [
    "#plot the different created Dates for each borough\n",
    "\n",
    "for label, df in party_in_nyc.groupby('Borough'):\n",
    "    df[\"Created Date\"].dt.hour.plot(kind=\"bar\", label=label)\n",
    "plt.legend()"
   ]
  },
  {
   "cell_type": "code",
   "execution_count": null,
   "metadata": {
    "collapsed": true
   },
   "outputs": [],
   "source": []
  }
 ],
 "metadata": {
  "kernelspec": {
   "display_name": "Python 2",
   "language": "python",
   "name": "python2"
  },
  "language_info": {
   "codemirror_mode": {
    "name": "ipython",
    "version": 2
   },
   "file_extension": ".py",
   "mimetype": "text/x-python",
   "name": "python",
   "nbconvert_exporter": "python",
   "pygments_lexer": "ipython2",
   "version": "2.7.12"
  }
 },
 "nbformat": 4,
 "nbformat_minor": 2
}
